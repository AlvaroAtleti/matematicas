{
  "nbformat": 4,
  "nbformat_minor": 0,
  "metadata": {
    "colab": {
      "provenance": [],
      "include_colab_link": true
    },
    "kernelspec": {
      "name": "python3",
      "display_name": "Python 3"
    },
    "language_info": {
      "name": "python"
    }
  },
  "cells": [
    {
      "cell_type": "markdown",
      "metadata": {
        "id": "view-in-github",
        "colab_type": "text"
      },
      "source": [
        "<a href=\"https://colab.research.google.com/github/AlvaroAtleti/matematicas/blob/main/practicas/practica_grafos.ipynb\" target=\"_parent\"><img src=\"https://colab.research.google.com/assets/colab-badge.svg\" alt=\"Open In Colab\"/></a>"
      ]
    },
    {
      "cell_type": "markdown",
      "source": [
        "# Práctica 2. Grafos"
      ],
      "metadata": {
        "id": "s28_pETXts4V"
      }
    },
    {
      "cell_type": "markdown",
      "source": [
        "## Práctica 2.1\n",
        "**Algoritmo de Dijkstra**\n",
        "\n",
        "1. Mira estos vídeos:\n",
        " * [Algoritmo de DIJKSTRA ruta corta](https://youtu.be/6rl0ghgPfK0)\n",
        " * [Ruta mas corta en una red, algoritmo de Dijkstra](https://youtu.be/rh02c7v3EKY)\n",
        "2. ¿Qué utilidad tiene el algoritmo?\n",
        "3. Explique el algoritmo.\n",
        "4. De un ejemplo de un grafo resuelto con el algoritmo de Dijkstra.\n",
        "* Muestre la imagen del grafo con sus:\n",
        "  - nodos\n",
        "  - aristas (con flecha si son orientadas)\n",
        "  - pesos (distancias o costes)\n",
        "* Muestre nuevamente la imagen del grafo pero en esta ocasión con la solución."
      ],
      "metadata": {
        "id": "6Gr8mAWDxCdq"
      }
    },
    {
      "cell_type": "markdown",
      "source": [
        "2) Sirve para encontrar la distancia más corta desde un punto de inicio, hasta el destino final.\n",
        "\n",
        "3) Se escoge un punto de inicio, este punto de inicio puede ir conectado con uno o varios puntos distintos. Entre los distintos puntos que hay una distancia y el objetivo es llegar a un destino final haciendo la ruta más corta. Para hacerlo se escoge el punto de inicio y se ve con que otros puntos está conectado y se crea un corchete donde a la izquierda se pone la distancia entre los puntos, esta distancia se va acumulando. A la derecha se pone desde que punto va empezando el recorrido. Saldrán varias distancias y siempre hay que escoger la más corta y tachar la larga ya que no sirve. Si en un punto hay varias distancias y son iguales da igual cuál se escoja."
      ],
      "metadata": {
        "id": "9ugYwBgAyKfr"
      }
    },
    {
      "cell_type": "markdown",
      "source": [
        "## Práctica 2.2\n",
        "Vea el video:\n",
        "\n",
        "* [Camino mas corto Solver](https://youtu.be/LYeMWlTfOgA)\n",
        "\n",
        "Se pide:  \n",
        "1. Replique en un archivo de Excel el caso del vídeo, en la Hoja 1. En el método de resolución de Solver elija el método Simplex.\n",
        "2. En la Hoja 2, aplique esa metodología usando Solver a otro grafo de su invención. Dibuje el grafo, con sus nodos, flechas y pesos, y resuélvalo.\n",
        "3. Suba el archivo de Excel creado a la tarea del Aula Virtual."
      ],
      "metadata": {
        "id": "In4IULDcx1Az"
      }
    },
    {
      "cell_type": "markdown",
      "source": [
        "## Práctica 2.3\n",
        "1. Muestre el enlace a alguna página donde se de el algoritmo de Dijkstra programado en **Python**.\n",
        "2. Pruebe su código con algún grafo de ejemplo."
      ],
      "metadata": {
        "id": "Dp_Eb4ORzqg4"
      }
    },
    {
      "cell_type": "markdown",
      "source": [
        "## Práctica 2.4\n",
        "* Dibuja un grafo que tenga un mínimo de 6 nodos\n",
        "* Crea en **Python** su **matriz de adyacencia**\n",
        "* Crea en Python su **lista de adyacencia**\n",
        "* ¿Son cero todos los elementos de la diagonal principal?\n",
        " - En qué caso serían todos cero y en qué caso no.\n",
        "* ¿Es una matriz simétrica?\n",
        " - En qué caso sería simétrica y en qué caso no.\n",
        "* Usando Python, suma todos los valores de la matriz\n",
        "* Comprueba si funcionan bien o no los siguientes códigos:\n",
        " - El primero permite convertir una matriz de adyacencia en una lista de adyacencia.\n",
        " - El segundo permite convertir una lista de adyacencia en una matriz de adyacencia.\n",
        "* Dibuja el grafo del ejemplo que se usa en este código."
      ],
      "metadata": {
        "id": "r8s1WapAnHlw"
      }
    },
    {
      "cell_type": "code",
      "source": [
        "def convert_to_adjacency(matrix):\n",
        "    start = 0\n",
        "    res = []\n",
        "    lst = []\n",
        "    n = len(matrix)\n",
        "    for i in range(n):\n",
        "        res.append(lst*n)\n",
        "    while start < n:\n",
        "        y = matrix[start]\n",
        "        for i in range(len(y)):\n",
        "            if y[i]==1:\n",
        "                res[start].append(i)\n",
        "        start +=1\n",
        "    return res\n",
        "\n",
        "matrix =[[0,1,1,1,0,1,1,0,0],[1,0,0,1,0,0,1,1,0],[1,0,0,1,0,0,0,0,0],[1,1,1,0,1,0,0,0,0],[0,0,0,1,0,1,0,0,1],[1,0,0,0,1,0,0,0,1],[1,1,0,0,0,0,0,0,0],[0,1,0,0,0,0,0,0,0],[0,0,0,0,1,1,0,0,0]]\n",
        "print(convert_to_adjacency(matrix))"
      ],
      "metadata": {
        "id": "DDM1R2YzO-c-",
        "outputId": "354fbafb-ce2e-49e4-d629-664b8cca5887",
        "colab": {
          "base_uri": "https://localhost:8080/"
        }
      },
      "execution_count": 1,
      "outputs": [
        {
          "output_type": "stream",
          "name": "stdout",
          "text": [
            "[[1, 2, 3, 5, 6], [0, 3, 6, 7], [0, 3], [0, 1, 2, 4], [3, 5, 8], [0, 4, 8], [0, 1], [1], [4, 5]]\n"
          ]
        }
      ]
    },
    {
      "cell_type": "code",
      "source": [
        "def convert_to_matrix(graph):\n",
        "    matrix =[]\n",
        "    for i in range(len(graph)): \n",
        "        matrix.append([0]*len(graph))\n",
        "        for j in graph[i]:\n",
        "            matrix[i][j]=1\n",
        "    return matrix\n",
        "\n",
        "lst =[[1,2,3,5,6],[0,3,6,7],[0,3],[0,1,2,4],[3,5,8],[0,4,8],[0,1],[1],[4,5]]\n",
        "print(convert_to_matrix(lst))"
      ],
      "metadata": {
        "id": "TcrGI9GTQ-o2"
      },
      "execution_count": null,
      "outputs": []
    },
    {
      "cell_type": "markdown",
      "source": [
        "## Práctica 2.5\n",
        "**Árboles binarios**\n",
        "* Mira este vídeo: [¿Qué son los ÁRBOLES BINARIOS y por qué son tan geniales?](https://youtu.be/lMTaNbJAqvM)\n",
        "* ¿Qué son los **árboles binarios de búsqueda**? (en inglés: BST (Binary Search Tree))\n",
        "* Mira este vídeo: [Recorrido de Árboles Binarios](https://youtu.be/WCiwBrj8EQY)\n",
        "* Qué significa recorrer el árbol en:\n",
        " - preorden\n",
        " - inorden\n",
        " - postorden\n",
        "* Al BST del vídeo anterior añadele dos nodos de tu elección, de forma que continúe siendo un BST, dibujalo (poniendo en color azul claro los dos nodos nuevos) y da su recorrido en:\n",
        " - preorden\n",
        " - inorden (observa que en este caso los nodos deben quedar **ordenados** de menor a mayor)\n",
        " - postorden\n",
        "* ¿Por qué los BST son importantes en ciencias de la computación?\n",
        "* Pon un link a una página o vídeo que trate este tema en **Python**.\n",
        "* ¿Has probado el código en Python que comentas? ¿Funciona con el BST que has puesto como ejemplo?"
      ],
      "metadata": {
        "id": "KciKQEh-DIxH"
      }
    },
    {
      "cell_type": "markdown",
      "source": [
        "## Práctica 2.6\n",
        "* ¿Qué es un **camino hamiltoniano**?\n",
        "* Pon un ejemplo\n",
        "* Dibújalo\n",
        "* Resulevelo\n",
        "* ¿Qué utilidad tiene?\n",
        "* Muestra los enlaces a un par de vídeos que hablen de ello"
      ],
      "metadata": {
        "id": "Chf7cUkfaR9O"
      }
    },
    {
      "cell_type": "markdown",
      "source": [
        "## Práctica 2.7\n",
        "* Mira este vídeo:\n",
        " - [Un problema matemático de ciudades y carreteras](https://youtu.be/kwU1uIbylsM)\n",
        "* Dibuja el grafo y da tu solución"
      ],
      "metadata": {
        "id": "vJ9XxUVKcpys"
      }
    },
    {
      "cell_type": "markdown",
      "source": [
        "## Práctica 2.8\n",
        "* El problema de **los puentes de Königsberg**\n",
        "* Describe el problema\n",
        "* Muestra una imagen del grafo resultante\n",
        "* Quién fue *Euler* y qué hizo para resolver el problema"
      ],
      "metadata": {
        "id": "mWSmp60VaQRp"
      }
    },
    {
      "cell_type": "markdown",
      "source": [
        " Durante el Siglo XVIII, la ciudad de Königsberg, en Prusia\n",
        "Oriental estaba dividida en cuatro zonas por el río Pregel. Había siete puentes que comunicaban estas\n",
        "regiones. Los habitantes de la ciudad hacían paseos dominicales\n",
        "tratando de encontrar una forma de caminar por la ciudad, cruzando cada puente una sola vez, y regresando\n",
        "al lugar de partida.\n",
        "Euler demostró que no era posible una ruta de estas características. Para ello, representó las cuatro zonas\n",
        "como cuatro puntos, y los puentes como aristas que unen los puntos.\n",
        "\n",
        "Imagen del grafo:\n",
        "\n",
        "![image.png](data:image/png;base64,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)"
      ],
      "metadata": {
        "id": "DI5ITO-79Sks"
      }
    },
    {
      "cell_type": "markdown",
      "source": [
        "Leonhard Euler fue un matemático y físico suizo  (1707-1783) hizo descubrimientos en una amplia gama de campos, incluyendo geometría, cálculo infinitesimal, trigonometría, álgebra, teoría de números, física de continuum, teoría lunar y teoría de grafos, entre muchas otras cosas. Las matemáticas eran su pasión, pero su padre quería que fuera clérigo como él. Por lo que se vió forzado a matricularse en la facultad de teología. Afortunadamente para él Johann Bernoull un gran matemático de la época sabía del don de Euler para las matemáticas y convenció a su padre para que pudiera estudiar matemáticas.\n",
        "En que este método se aplica a cualquier problema de este tipo. Con calcular las aristas que tienen los puntos intermedios y extremos podemos saber a la primera si el problema es irresoluble o no. En el caso de los puentes de Königsberg, los vértices intermedios tienen un número impar de aristas, por lo que es absolutamente imposible realizar la hazaña del ejercicio planteado."
      ],
      "metadata": {
        "id": "TS8pWJUoAMwx"
      }
    },
    {
      "cell_type": "markdown",
      "source": [
        "## Práctica 2.9\n",
        "* ¿Qué son los **caminos eulerianos**?\n",
        "* ¿Qué son los **ciclos eulerianos**?\n",
        "* Da los enlaces a dos vídeos que hablen de ello\n",
        "* Dibuja un par de casos"
      ],
      "metadata": {
        "id": "_jPsX_8vhGkL"
      }
    },
    {
      "cell_type": "markdown",
      "source": [
        "En la teoría de grafos, un camino euleriano es un camino que pasa por cada arista una y solo una vez.\n",
        "\n",
        "Un ciclo o circuito euleriano es un camino cerrado que recorre cada arista exactamente una vez."
      ],
      "metadata": {
        "id": "iezlq3IwITYy"
      }
    },
    {
      "cell_type": "markdown",
      "source": [
        "## Práctica 2.10\n",
        "* Mira estos vídeos:\n",
        " - [¿Puedes dibujarlo sin despegar el lápiz?](https://youtu.be/IZ0-xFrlvag)\n",
        " - [USA esta LÓGICA cuando NO PUEDAS con un PROBLEMA](https://youtu.be/5Ncb7eU0LkQ)\n",
        "* Caso 1: dibuja un grafo en el que si sea posible y resuélvelo\n",
        "* Caso 2: dibuja un grafo en el que no sea posible y di el motivo"
      ],
      "metadata": {
        "id": "4wcsNU_-kQM-"
      }
    }
  ]
}