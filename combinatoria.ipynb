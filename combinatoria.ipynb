{
  "nbformat": 4,
  "nbformat_minor": 0,
  "metadata": {
    "colab": {
      "provenance": [],
      "collapsed_sections": [],
      "include_colab_link": true
    },
    "kernelspec": {
      "name": "python3",
      "display_name": "Python 3"
    },
    "language_info": {
      "name": "python"
    }
  },
  "cells": [
    {
      "cell_type": "markdown",
      "metadata": {
        "id": "view-in-github",
        "colab_type": "text"
      },
      "source": [
        "<a href=\"https://colab.research.google.com/github/AlvaroAtleti/matematicas/blob/main/combinatoria.ipynb\" target=\"_parent\"><img src=\"https://colab.research.google.com/assets/colab-badge.svg\" alt=\"Open In Colab\"/></a>"
      ]
    },
    {
      "cell_type": "markdown",
      "source": [
        "# Práctica 1. Combinatoria\n",
        "Resuelva los siguientes apartados de la práctica.  \n",
        "La práctica 1.1 se proporciona solucionada para que pueda servir como ejemplo.\n"
      ],
      "metadata": {
        "id": "VP-PLgSCPtPC"
      }
    },
    {
      "cell_type": "markdown",
      "source": [
        "## Práctica 1.1\n",
        "Cuatro amigos:\n",
        "* Antonio (A)\n",
        "* Begoña (B)\n",
        "* Cesar (C)\n",
        "* Diana (D)\n",
        "\n",
        "constituyen una asociación y tienen que asignar los siguientes cargos:\n",
        "* Presiente (1)\n",
        "* Vicepresidente (2)\n",
        "* Secretario (3)\n",
        "* Tesorero (4)\n",
        "\n",
        "Se pide:\n",
        "1. Escribiendo la solución en una celda de Markdown analice el caso indicando si se trata de variaciones, permutaciones o combinaciones, con o sin repetición o el caso que sea, y el motivo para clasificar el caso de esta forma.\n",
        "2. Utilizando fórmulas de $\\LaTeX$ calcule cuántos casos existen.\n",
        "3. Cree un programa en Python para calcule cuántos casos existen.\n",
        "4. Cree un programa en Python para imprimir todas las posibilidades y numérelas. Por ejemplo:\n",
        "    - 1 ABCD\n",
        "    - 2 ABDC\n",
        "    - 3 ACBD\n",
        "    - &#20; &#20; &#20; ... ... ..."
      ],
      "metadata": {
        "id": "6oyoxqfbQJDC"
      }
    },
    {
      "cell_type": "markdown",
      "source": [
        "### Solución 1.1\n",
        "* Estamos ante un caso de **permutaciones sin repetición** ya que:\n",
        " - El orden importa, no es lo mismo estar el nº1 que significa ser presidente que el nº 4 que corresponde al tesorero.\n",
        " - Intervienen todos. Son 4 amigos para 4 cargos, todos tienen cargo, lo que cambiar es el orden, esto es, el cargo que obtengan.\n",
        " - No se repiten elementos. Una persona no puede tener dos cargos simultaneamente.\n",
        "* Los casos que se obtienen con las permutaciones sin repetición son $P_{n}=n!$ que para este ejemplo son:\n",
        "\n",
        "$$P_{4}=4!=4 \\cdot 3 \\cdot 2 \\cdot 1 = 24$$"
      ],
      "metadata": {
        "id": "t5unIqR7jdZR"
      }
    },
    {
      "cell_type": "code",
      "source": [
        "import math\n",
        "p = math.factorial(4)\n",
        "print(\"Los casos son: \", p)\n",
        "print(\"Comprobación:  \", 4*3*2*1)"
      ],
      "metadata": {
        "id": "va3_l_-hmFS-",
        "outputId": "29761acc-3d68-45fe-99e9-64f1a9e91901",
        "colab": {
          "base_uri": "https://localhost:8080/"
        }
      },
      "execution_count": null,
      "outputs": [
        {
          "output_type": "stream",
          "name": "stdout",
          "text": [
            "Los casos son:  24\n",
            "Comprobación:   24\n"
          ]
        }
      ]
    },
    {
      "cell_type": "markdown",
      "source": [
        "#### Método 1\n",
        "Sin usar librería."
      ],
      "metadata": {
        "id": "kOM3pEAGnh8v"
      }
    },
    {
      "cell_type": "code",
      "source": [
        "lista = ['A', 'B', 'C', 'D']\n",
        "contador = 1\n",
        "\n",
        "for i in lista:\n",
        "    for j in lista:\n",
        "        for k in lista:\n",
        "            for l in lista:\n",
        "                if i != j and i != k and i != l and j != k and j != l and k != l:\n",
        "                    print(f\"{contador:2d} →  {i+j+k+l}\")\n",
        "                    contador += 1"
      ],
      "metadata": {
        "id": "5--ZpSoJncj3",
        "colab": {
          "base_uri": "https://localhost:8080/"
        },
        "outputId": "7277e64c-81b4-44b4-d6cd-b7a8bac9e5f0"
      },
      "execution_count": null,
      "outputs": [
        {
          "output_type": "stream",
          "name": "stdout",
          "text": [
            " 1 →  ABCD\n",
            " 2 →  ABDC\n",
            " 3 →  ACBD\n",
            " 4 →  ACDB\n",
            " 5 →  ADBC\n",
            " 6 →  ADCB\n",
            " 7 →  BACD\n",
            " 8 →  BADC\n",
            " 9 →  BCAD\n",
            "10 →  BCDA\n",
            "11 →  BDAC\n",
            "12 →  BDCA\n",
            "13 →  CABD\n",
            "14 →  CADB\n",
            "15 →  CBAD\n",
            "16 →  CBDA\n",
            "17 →  CDAB\n",
            "18 →  CDBA\n",
            "19 →  DABC\n",
            "20 →  DACB\n",
            "21 →  DBAC\n",
            "22 →  DBCA\n",
            "23 →  DCAB\n",
            "24 →  DCBA\n"
          ]
        }
      ]
    },
    {
      "cell_type": "markdown",
      "source": [
        "#### Método 2\n",
        "* Usamos la función `permutations` de la librería `itertools`.\n",
        "* Imprimimos todas las permutaciones de los elementos de una lista."
      ],
      "metadata": {
        "id": "2PoCD5GlnwS1"
      }
    },
    {
      "cell_type": "code",
      "source": [
        "from itertools import permutations\n",
        "\n",
        "perm = permutations(['A','B','C','D'])   # obtenemos todas las permutaciones de la lista \n",
        "\n",
        "for i in list(perm):                     # imprimimos todas las permutaciones \n",
        "    print (*i)                           # con el asterisco se muestran las listas sin corchetes ni comas"
      ],
      "metadata": {
        "id": "eKkB1gQnn6_P"
      },
      "execution_count": null,
      "outputs": []
    },
    {
      "cell_type": "markdown",
      "source": [
        "## Práctica 1.2\n",
        "Cuatro amigos:\n",
        "* Antonio (A)\n",
        "* Begoña (B)\n",
        "* Cesar (C)\n",
        "* Diana (D)\n",
        "\n",
        "constituyen una asociación y tienen que asignar los siguientes cargos:\n",
        "* Presiente (1)\n",
        "* Secretario (3)\n",
        "* Tesorero (4)\n",
        "\n",
        "Se pide:\n",
        "1. Escribiendo la solución en una celda de Markdown analice el caso indicando si se trata de variaciones, permutaciones o combinaciones, con o sin repetición o el caso que sea, y el motivo para clasificar el caso de esta forma.\n",
        "2. Utilizando fórmulas de $\\LaTeX$ calcule cuántos casos existen.\n",
        "3. Cree un programa en Python para calcule cuántos casos existen.\n",
        "4. Cree un programa en Python para imprimir todas las posibilidades y numérelas. Por ejemplo:\n",
        "    - 1 ABC\n",
        "    - 2 ABD\n",
        "    - 3 ACB\n",
        "    - &#20; &#20; &#20; ... ... ..."
      ],
      "metadata": {
        "id": "sxSuCpAFSBPJ"
      }
    },
    {
      "cell_type": "markdown",
      "source": [
        "### Solución 1.2"
      ],
      "metadata": {
        "id": "xx9qsw_ej9Pd"
      }
    },
    {
      "cell_type": "markdown",
      "source": [],
      "metadata": {
        "id": "RZ2vI1norrni"
      }
    },
    {
      "cell_type": "code",
      "source": [
        "lista = ['A', 'B', 'C', 'D'] \n",
        "contador = 1\n",
        "enumerate(lista)\n",
        "for i in lista:\n",
        "    for j in lista:\n",
        "        for k in lista:\n",
        "            for l in lista:\n",
        "                if i != j and i != k and i != l and j != k and j != l and k != l:\n",
        "                    print(f\"{contador:2d} →  {i+j+k+l}\")\n",
        "                    contador += 1"
      ],
      "metadata": {
        "colab": {
          "base_uri": "https://localhost:8080/"
        },
        "id": "O75jZpGaG782",
        "outputId": "6ed51e4e-3de1-4c5b-e864-d7883574b98a"
      },
      "execution_count": 22,
      "outputs": [
        {
          "output_type": "stream",
          "name": "stdout",
          "text": [
            " 1 →  ABCD\n",
            " 2 →  ABDC\n",
            " 3 →  ACBD\n",
            " 4 →  ACDB\n",
            " 5 →  ADBC\n",
            " 6 →  ADCB\n",
            " 7 →  BACD\n",
            " 8 →  BADC\n",
            " 9 →  BCAD\n",
            "10 →  BCDA\n",
            "11 →  BDAC\n",
            "12 →  BDCA\n",
            "13 →  CABD\n",
            "14 →  CADB\n",
            "15 →  CBAD\n",
            "16 →  CBDA\n",
            "17 →  CDAB\n",
            "18 →  CDBA\n",
            "19 →  DABC\n",
            "20 →  DACB\n",
            "21 →  DBAC\n",
            "22 →  DBCA\n",
            "23 →  DCAB\n",
            "24 →  DCBA\n"
          ]
        }
      ]
    },
    {
      "cell_type": "markdown",
      "source": [],
      "metadata": {
        "id": "0qlD0psprpuQ"
      }
    },
    {
      "cell_type": "markdown",
      "source": [
        "## Práctica 1.3\n",
        "Invente un caso de **variaciones sin repetición**.\n",
        "Se pide contestar a los mismos puntos que el caso anterior."
      ],
      "metadata": {
        "id": "D0S1DjF4MKmz"
      }
    },
    {
      "cell_type": "markdown",
      "source": [
        "¿Cuántos números de cuatro cifras (todas distintas) se pueden formar con los números 1, 2, 3, 4, 5?\n",
        "\n",
        "Estamos ante un caso de variaciones sin repetición ya que:\n",
        "No intervienen todos los elementos. Solo tomaremos cuatro de las cinco númerospara realizar las combinaciones.\n",
        "El orden importa ya que no es lo mismo 124 que 4321.\n",
        "Son sin repetición ya que si un número es utilizado, queda descartado. Esto sucede porque todas las cifras deben ser distintas."
      ],
      "metadata": {
        "id": "2zHse4BpOkaN"
      }
    },
    {
      "cell_type": "markdown",
      "source": [
        "### Solución 1.3"
      ],
      "metadata": {
        "id": "AfyuPIASj_20"
      }
    },
    {
      "cell_type": "code",
      "source": [
        "import itertools\n",
        "it = itertools.permutations(['1','2','3','4','5'],4)\n",
        "li = list(it)\n",
        "\n",
        "print()\n",
        "\n",
        "for i in range(len(li)):\n",
        "    print(f\"Variación {i+1:2d}: \", *li[i])\n"
      ],
      "metadata": {
        "colab": {
          "base_uri": "https://localhost:8080/"
        },
        "id": "BFCdyU7744W1",
        "outputId": "5740a985-77b3-4f18-86c8-f30884cb1548"
      },
      "execution_count": 25,
      "outputs": [
        {
          "output_type": "stream",
          "name": "stdout",
          "text": [
            "\n",
            "Variación  1:  1 2 3 4\n",
            "Variación  2:  1 2 3 5\n",
            "Variación  3:  1 2 4 3\n",
            "Variación  4:  1 2 4 5\n",
            "Variación  5:  1 2 5 3\n",
            "Variación  6:  1 2 5 4\n",
            "Variación  7:  1 3 2 4\n",
            "Variación  8:  1 3 2 5\n",
            "Variación  9:  1 3 4 2\n",
            "Variación 10:  1 3 4 5\n",
            "Variación 11:  1 3 5 2\n",
            "Variación 12:  1 3 5 4\n",
            "Variación 13:  1 4 2 3\n",
            "Variación 14:  1 4 2 5\n",
            "Variación 15:  1 4 3 2\n",
            "Variación 16:  1 4 3 5\n",
            "Variación 17:  1 4 5 2\n",
            "Variación 18:  1 4 5 3\n",
            "Variación 19:  1 5 2 3\n",
            "Variación 20:  1 5 2 4\n",
            "Variación 21:  1 5 3 2\n",
            "Variación 22:  1 5 3 4\n",
            "Variación 23:  1 5 4 2\n",
            "Variación 24:  1 5 4 3\n",
            "Variación 25:  2 1 3 4\n",
            "Variación 26:  2 1 3 5\n",
            "Variación 27:  2 1 4 3\n",
            "Variación 28:  2 1 4 5\n",
            "Variación 29:  2 1 5 3\n",
            "Variación 30:  2 1 5 4\n",
            "Variación 31:  2 3 1 4\n",
            "Variación 32:  2 3 1 5\n",
            "Variación 33:  2 3 4 1\n",
            "Variación 34:  2 3 4 5\n",
            "Variación 35:  2 3 5 1\n",
            "Variación 36:  2 3 5 4\n",
            "Variación 37:  2 4 1 3\n",
            "Variación 38:  2 4 1 5\n",
            "Variación 39:  2 4 3 1\n",
            "Variación 40:  2 4 3 5\n",
            "Variación 41:  2 4 5 1\n",
            "Variación 42:  2 4 5 3\n",
            "Variación 43:  2 5 1 3\n",
            "Variación 44:  2 5 1 4\n",
            "Variación 45:  2 5 3 1\n",
            "Variación 46:  2 5 3 4\n",
            "Variación 47:  2 5 4 1\n",
            "Variación 48:  2 5 4 3\n",
            "Variación 49:  3 1 2 4\n",
            "Variación 50:  3 1 2 5\n",
            "Variación 51:  3 1 4 2\n",
            "Variación 52:  3 1 4 5\n",
            "Variación 53:  3 1 5 2\n",
            "Variación 54:  3 1 5 4\n",
            "Variación 55:  3 2 1 4\n",
            "Variación 56:  3 2 1 5\n",
            "Variación 57:  3 2 4 1\n",
            "Variación 58:  3 2 4 5\n",
            "Variación 59:  3 2 5 1\n",
            "Variación 60:  3 2 5 4\n",
            "Variación 61:  3 4 1 2\n",
            "Variación 62:  3 4 1 5\n",
            "Variación 63:  3 4 2 1\n",
            "Variación 64:  3 4 2 5\n",
            "Variación 65:  3 4 5 1\n",
            "Variación 66:  3 4 5 2\n",
            "Variación 67:  3 5 1 2\n",
            "Variación 68:  3 5 1 4\n",
            "Variación 69:  3 5 2 1\n",
            "Variación 70:  3 5 2 4\n",
            "Variación 71:  3 5 4 1\n",
            "Variación 72:  3 5 4 2\n",
            "Variación 73:  4 1 2 3\n",
            "Variación 74:  4 1 2 5\n",
            "Variación 75:  4 1 3 2\n",
            "Variación 76:  4 1 3 5\n",
            "Variación 77:  4 1 5 2\n",
            "Variación 78:  4 1 5 3\n",
            "Variación 79:  4 2 1 3\n",
            "Variación 80:  4 2 1 5\n",
            "Variación 81:  4 2 3 1\n",
            "Variación 82:  4 2 3 5\n",
            "Variación 83:  4 2 5 1\n",
            "Variación 84:  4 2 5 3\n",
            "Variación 85:  4 3 1 2\n",
            "Variación 86:  4 3 1 5\n",
            "Variación 87:  4 3 2 1\n",
            "Variación 88:  4 3 2 5\n",
            "Variación 89:  4 3 5 1\n",
            "Variación 90:  4 3 5 2\n",
            "Variación 91:  4 5 1 2\n",
            "Variación 92:  4 5 1 3\n",
            "Variación 93:  4 5 2 1\n",
            "Variación 94:  4 5 2 3\n",
            "Variación 95:  4 5 3 1\n",
            "Variación 96:  4 5 3 2\n",
            "Variación 97:  5 1 2 3\n",
            "Variación 98:  5 1 2 4\n",
            "Variación 99:  5 1 3 2\n",
            "Variación 100:  5 1 3 4\n",
            "Variación 101:  5 1 4 2\n",
            "Variación 102:  5 1 4 3\n",
            "Variación 103:  5 2 1 3\n",
            "Variación 104:  5 2 1 4\n",
            "Variación 105:  5 2 3 1\n",
            "Variación 106:  5 2 3 4\n",
            "Variación 107:  5 2 4 1\n",
            "Variación 108:  5 2 4 3\n",
            "Variación 109:  5 3 1 2\n",
            "Variación 110:  5 3 1 4\n",
            "Variación 111:  5 3 2 1\n",
            "Variación 112:  5 3 2 4\n",
            "Variación 113:  5 3 4 1\n",
            "Variación 114:  5 3 4 2\n",
            "Variación 115:  5 4 1 2\n",
            "Variación 116:  5 4 1 3\n",
            "Variación 117:  5 4 2 1\n",
            "Variación 118:  5 4 2 3\n",
            "Variación 119:  5 4 3 1\n",
            "Variación 120:  5 4 3 2\n"
          ]
        }
      ]
    },
    {
      "cell_type": "markdown",
      "source": [
        "## Práctica 1.4\n",
        "Invente un caso de **variaciones con repetición**.\n",
        "Se pide contestar a los mismos puntos que el caso anterior."
      ],
      "metadata": {
        "id": "gvlnqCaRMTua"
      }
    },
    {
      "cell_type": "markdown",
      "source": [
        "Estamos ante un caso de variaciones con repetición ya que: No intervienen todos los elementos. Solo tomaremos cuatro de las cinco númerospara realizar las combinaciones. El orden importa ya que no es lo mismo 124 que 4321. Son con repetición ya que si un número es utilizado, se puede volver a usar. "
      ],
      "metadata": {
        "id": "wRwvtwMzPHkH"
      }
    },
    {
      "cell_type": "markdown",
      "source": [
        "### Solución 1.4"
      ],
      "metadata": {
        "id": "hzvsgRDbkCy1"
      }
    },
    {
      "cell_type": "code",
      "source": [
        "\n",
        "import itertools\n",
        "\n",
        "b = [1,2,3]\n",
        "k = [4,5]\n",
        "c = itertools.product(b,k,repeat=1)\n",
        "for i in c:\n",
        "    print(i)\n",
        "print('=='*20)\n",
        "z = itertools.product(b,k,repeat=2)\n",
        "for i in z:\n",
        "    print(i)\n"
      ],
      "metadata": {
        "colab": {
          "base_uri": "https://localhost:8080/"
        },
        "id": "AlJMY6FW6Th1",
        "outputId": "822d8f69-babd-4636-9187-ce7a47caa60a"
      },
      "execution_count": 26,
      "outputs": [
        {
          "output_type": "stream",
          "name": "stdout",
          "text": [
            "(1, 4)\n",
            "(1, 5)\n",
            "(2, 4)\n",
            "(2, 5)\n",
            "(3, 4)\n",
            "(3, 5)\n",
            "========================================\n",
            "(1, 4, 1, 4)\n",
            "(1, 4, 1, 5)\n",
            "(1, 4, 2, 4)\n",
            "(1, 4, 2, 5)\n",
            "(1, 4, 3, 4)\n",
            "(1, 4, 3, 5)\n",
            "(1, 5, 1, 4)\n",
            "(1, 5, 1, 5)\n",
            "(1, 5, 2, 4)\n",
            "(1, 5, 2, 5)\n",
            "(1, 5, 3, 4)\n",
            "(1, 5, 3, 5)\n",
            "(2, 4, 1, 4)\n",
            "(2, 4, 1, 5)\n",
            "(2, 4, 2, 4)\n",
            "(2, 4, 2, 5)\n",
            "(2, 4, 3, 4)\n",
            "(2, 4, 3, 5)\n",
            "(2, 5, 1, 4)\n",
            "(2, 5, 1, 5)\n",
            "(2, 5, 2, 4)\n",
            "(2, 5, 2, 5)\n",
            "(2, 5, 3, 4)\n",
            "(2, 5, 3, 5)\n",
            "(3, 4, 1, 4)\n",
            "(3, 4, 1, 5)\n",
            "(3, 4, 2, 4)\n",
            "(3, 4, 2, 5)\n",
            "(3, 4, 3, 4)\n",
            "(3, 4, 3, 5)\n",
            "(3, 5, 1, 4)\n",
            "(3, 5, 1, 5)\n",
            "(3, 5, 2, 4)\n",
            "(3, 5, 2, 5)\n",
            "(3, 5, 3, 4)\n",
            "(3, 5, 3, 5)\n"
          ]
        }
      ]
    },
    {
      "cell_type": "markdown",
      "source": [
        "## Práctica 1.5\n",
        "Invente un caso de **permutaciones sin repetición**.\n",
        "Se pide contestar a los mismos puntos que el caso anterior."
      ],
      "metadata": {
        "id": "0OCAC-I-G5F6"
      }
    },
    {
      "cell_type": "markdown",
      "source": [
        "Tres hermanas:\n",
        "\n",
        "Ana (A)\n",
        "Bárbara (B)\n",
        "Camila (C) Se quieren disponer en una mesa con 3 sillas ¿Cuáles son las maneras posibles?\n",
        "Estamos ante un caso de permutaciones sin repetición ya que:\n",
        "\n",
        "El orden importa, no es lo mismo estar en la silla nº1, que en la silla nº2.\n",
        "Intervienen todas. Son 3 hermanas para 3 sillas, todas tienen un puesto.\n",
        "No se repiten elementos. Una hermana no se puede sentar en dos sillas al mismo tiempo"
      ],
      "metadata": {
        "id": "tjJXYQx7P70s"
      }
    },
    {
      "cell_type": "markdown",
      "source": [
        "### Solución 1.5"
      ],
      "metadata": {
        "id": "FvLcj6XXkFOV"
      }
    },
    {
      "cell_type": "code",
      "source": [
        "lista = ['A', 'B', 'C']\n",
        "contador = 1\n",
        "\n",
        "for i in lista:\n",
        "    for j in lista:\n",
        "        for k in lista:\n",
        "\n",
        "                if i != j and i != k and j != k :\n",
        "                    print(f\"{contador:2d} →  {i+j+k}\")\n",
        "                    contador += 1\n"
      ],
      "metadata": {
        "colab": {
          "base_uri": "https://localhost:8080/"
        },
        "id": "BdLHAjCz6d1s",
        "outputId": "b83faf20-1f9b-45ca-c44b-6cb0d3b5ef3e"
      },
      "execution_count": 7,
      "outputs": [
        {
          "output_type": "stream",
          "name": "stdout",
          "text": [
            " 1 →  ABC\n",
            " 2 →  ACB\n",
            " 3 →  BAC\n",
            " 4 →  BCA\n",
            " 5 →  CAB\n",
            " 6 →  CBA\n"
          ]
        }
      ]
    },
    {
      "cell_type": "markdown",
      "source": [
        "## Práctica 1.6\n",
        "Invente un caso de **permutaciones con repetición**.\n",
        "Se pide contestar a los mismos puntos que el caso anterior."
      ],
      "metadata": {
        "id": "YWUXIczqLj3W"
      }
    },
    {
      "cell_type": "markdown",
      "source": [
        "### Solución 1.6"
      ],
      "metadata": {
        "id": "siAxWVVekHs6"
      }
    },
    {
      "cell_type": "markdown",
      "source": [
        "Hay tres personas que vana competir en un triatlón, este consta de tres pruebas, por lo que una misma persona podría ganar más de una prueba, repitiendo así su nombre."
      ],
      "metadata": {
        "id": "Y8aKYvT3QwDU"
      }
    },
    {
      "cell_type": "code",
      "source": [
        "lista = ['Maria ', 'Jorge ', 'Alvaro ']\n",
        "\n",
        "for i in lista:\n",
        "    for j in lista:\n",
        "        for k in lista:\n",
        "                print(i + j + k )\n"
      ],
      "metadata": {
        "colab": {
          "base_uri": "https://localhost:8080/"
        },
        "id": "v_2ZsUhW6ulu",
        "outputId": "36b3deb9-9269-4d95-ca52-4daf0845fbbe"
      },
      "execution_count": 30,
      "outputs": [
        {
          "output_type": "stream",
          "name": "stdout",
          "text": [
            "Maria Maria Maria \n",
            "Maria Maria Jorge \n",
            "Maria Maria Alvaro \n",
            "Maria Jorge Maria \n",
            "Maria Jorge Jorge \n",
            "Maria Jorge Alvaro \n",
            "Maria Alvaro Maria \n",
            "Maria Alvaro Jorge \n",
            "Maria Alvaro Alvaro \n",
            "Jorge Maria Maria \n",
            "Jorge Maria Jorge \n",
            "Jorge Maria Alvaro \n",
            "Jorge Jorge Maria \n",
            "Jorge Jorge Jorge \n",
            "Jorge Jorge Alvaro \n",
            "Jorge Alvaro Maria \n",
            "Jorge Alvaro Jorge \n",
            "Jorge Alvaro Alvaro \n",
            "Alvaro Maria Maria \n",
            "Alvaro Maria Jorge \n",
            "Alvaro Maria Alvaro \n",
            "Alvaro Jorge Maria \n",
            "Alvaro Jorge Jorge \n",
            "Alvaro Jorge Alvaro \n",
            "Alvaro Alvaro Maria \n",
            "Alvaro Alvaro Jorge \n",
            "Alvaro Alvaro Alvaro \n"
          ]
        }
      ]
    },
    {
      "cell_type": "markdown",
      "source": [
        "## Práctica 1.7\n",
        "Invente un caso de **combinaciones sin repetición**.\n",
        "Se pide contestar a los mismos puntos que el caso anterior."
      ],
      "metadata": {
        "id": "opCrIDtJGg1R"
      }
    },
    {
      "cell_type": "markdown",
      "source": [
        "\n",
        "Un niño quiere comerse un helado de dos bolas. Estos son los sabores disponibles: \n",
        "Platano,\n",
        "Chocolate,\n",
        "Limon,\n",
        "Pistacho,\n",
        "Cereza,\n",
        "Fresa,\n",
        "Vainilla.\n",
        "Estamos ante un caso de combinaciones sin repetición ya que:\n",
        "El orden no importa, no es relevante el orden en el que se escogen ya que es lo mismo escoger una bola de chocolate y una de vainilla que una de vainilla y otra de chocolate.\n",
        "No intervienen todos. Son 7 sabores y solo 2 pueden ser elegidos.\n",
        "No se repiten elementos. El niño no puede escoger el mismo sabor dos veces."
      ],
      "metadata": {
        "id": "SMQ7903ePhov"
      }
    },
    {
      "cell_type": "markdown",
      "source": [
        "### Solución 1.7"
      ],
      "metadata": {
        "id": "Zs46BsRnkJcl"
      }
    },
    {
      "cell_type": "code",
      "source": [
        "from itertools import combinations\n",
        "\n",
        "Sabores = [\n",
        "\"Platano\",\n",
        "\"Chocolate\",\n",
        "\"Limon\",\n",
        "\"Pistacho\",\n",
        "\"Cereza\",\n",
        "\"Fresa\",\n",
        "\"Vainilla\",]\n",
        "\n",
        "\n",
        "print(list(combinations(Sabores, 2)))"
      ],
      "metadata": {
        "colab": {
          "base_uri": "https://localhost:8080/"
        },
        "id": "J7r2bk9UDEv_",
        "outputId": "6f13ed34-e708-4c87-b58b-2f3f2df035ca"
      },
      "execution_count": 20,
      "outputs": [
        {
          "output_type": "stream",
          "name": "stdout",
          "text": [
            "[('Platano', 'Chocolate'), ('Platano', 'Limon'), ('Platano', 'Pistacho'), ('Platano', 'Cereza'), ('Platano', 'Fresa'), ('Platano', 'Vainilla'), ('Chocolate', 'Limon'), ('Chocolate', 'Pistacho'), ('Chocolate', 'Cereza'), ('Chocolate', 'Fresa'), ('Chocolate', 'Vainilla'), ('Limon', 'Pistacho'), ('Limon', 'Cereza'), ('Limon', 'Fresa'), ('Limon', 'Vainilla'), ('Pistacho', 'Cereza'), ('Pistacho', 'Fresa'), ('Pistacho', 'Vainilla'), ('Cereza', 'Fresa'), ('Cereza', 'Vainilla'), ('Fresa', 'Vainilla')]\n"
          ]
        }
      ]
    },
    {
      "cell_type": "markdown",
      "source": [
        "## Práctica 1.8\n",
        "Invente un caso de **combinaciones con repetición**.\n",
        "Se pide contestar a los mismos puntos que el caso anterior."
      ],
      "metadata": {
        "id": "-7Y5WWlDGzAR"
      }
    },
    {
      "cell_type": "markdown",
      "source": [
        "Una tienda de sandwich ofrece cinco ingredientes para crear el sandwich:\n",
        "\n",
        "Queso\n",
        "Jamón\n",
        "Lechuga\n",
        "Mantequilla\n",
        "Cebolla\n",
        "Si se pueden hacer sandwichs de dos ingredientes, ¿cuántas sandwichs diferentes se pueden elaborar? Estamos ante un caso de combinaciones con repetición por que:\n",
        "\n",
        "El orden da igual, el orden en el que se ponen los ingredientes no importa, da igual coger jamon y queso que queso y jamon\n",
        "No intervienen todos. Son 5 ingradientes y solo se usan 2.\n",
        "Si se repiten elementos. La persona puede escoger dos veces el mismo ingrediente. EJ: jamon, jamon;lechuga,lechuga..."
      ],
      "metadata": {
        "id": "orgJqwmGJuOV"
      }
    },
    {
      "cell_type": "code",
      "source": [
        "from itertools import combinations\n",
        "\n",
        "ingredientes = [\"Jamón \",\" Queso \",\"Lechuga \",\"Mantequilla \",\"Cebolla \"]\n",
        "\n",
        "n = 0\n",
        "combi = []\n",
        "\n",
        "while n < len(ingredientes):\n",
        "    for i in ingredientes:\n",
        "        for g in ingredientes:\n",
        "            if  g + i not in combi:\n",
        "                c = i + g\n",
        "                combi.append(c)\n",
        "                n += 1\n",
        "                print (n,c)"
      ],
      "metadata": {
        "id": "gb3EZcULvpjO",
        "colab": {
          "base_uri": "https://localhost:8080/"
        },
        "outputId": "e0bcd8be-457a-4614-9ccd-47fcb0ade390"
      },
      "execution_count": 13,
      "outputs": [
        {
          "output_type": "stream",
          "name": "stdout",
          "text": [
            "1 Jamón Jamón \n",
            "2 Jamón  Queso \n",
            "3 Jamón Lechuga \n",
            "4 Jamón Mantequilla \n",
            "5 Jamón Cebolla \n",
            "6  Queso  Queso \n",
            "7  Queso Lechuga \n",
            "8  Queso Mantequilla \n",
            "9  Queso Cebolla \n",
            "10 Lechuga Lechuga \n",
            "11 Lechuga Mantequilla \n",
            "12 Lechuga Cebolla \n",
            "13 Mantequilla Mantequilla \n",
            "14 Mantequilla Cebolla \n",
            "15 Cebolla Cebolla \n"
          ]
        }
      ]
    },
    {
      "cell_type": "markdown",
      "source": [
        "### Solución 1.8"
      ],
      "metadata": {
        "id": "ReRULqd8kL1F"
      }
    },
    {
      "cell_type": "markdown",
      "source": [
        "## Práctica 1.9\n",
        "En el gobierno se crea una unidad de crisis formada por el presidente (P) y 4 ministros (A,B,C,D) que se reúnen sentados alrededor de una **mesa redonda**.\n",
        "\n",
        "Se pide:  \n",
        "1. Calcule de cuantas formas pueden llegar a sentarse si el ministro de defensa (D) siempre ha de estar al lado del presidente (P). Escriba la solución en una celda de Markdown utilizando fórmulas en $\\LaTeX$  explicando el caso.\n",
        "2. Cree un programa en Python para calcular el número de casos que se pueden dar al sentarse en la mesa.\n",
        "3. Cree un programa en Python para imprimir todas las posibilidades y numérelas. Por ejemplo:\n",
        "    - 1 PDABC\n",
        "    - 2 PDACB\n",
        "    - 3 PDBCD\n",
        "    - 4 PDBDC\n",
        "    - 5 PDCAB\n",
        "    - 6 PDCBA\n",
        "    - 7 DPABC\n",
        "    - 8 DPACB\n",
        "    - &#20; &#20; &#20; ... ... ...\n"
      ],
      "metadata": {
        "id": "SOzxh_YgHnDG"
      }
    },
    {
      "cell_type": "markdown",
      "source": [
        "### Solución 1.9"
      ],
      "metadata": {
        "id": "F8kV034OkQZX"
      }
    },
    {
      "cell_type": "markdown",
      "source": [
        "## Práctica 1.10\n",
        "* Realice una breve explicación teórica del **triángulo de Pascal**, o también llamado triángulo de Tartaglia, y de las fórmulas de los números combinatorios.\n",
        "* Cree un programa en Python para hacer el triángulo de Pascal."
      ],
      "metadata": {
        "id": "eiHdMOP-MkrZ"
      }
    },
    {
      "cell_type": "markdown",
      "source": [
        "El triángulo de Pascal, es un triangulo de numeros enteros, que comienza con un 1 arriba del todo y según va bajando van apareciendo más números que resultan de la suma de los números que tienen arriba. Es un triángulo infinito. "
      ],
      "metadata": {
        "id": "OhTOmDsAIpqG"
      }
    },
    {
      "cell_type": "markdown",
      "source": [
        "### Solución 1.10"
      ],
      "metadata": {
        "id": "j0UT2579kTSM"
      }
    },
    {
      "cell_type": "code",
      "source": [
        "\n",
        "\n",
        "  \n",
        "n = 8\n",
        "  \n",
        "for i in range(n): \n",
        "    \n",
        "    print(' '*(n-i), end='') \n",
        "  \n",
        "    \n",
        "    print(' '.join(map(str, str(11**i)))) \n"
      ],
      "metadata": {
        "colab": {
          "base_uri": "https://localhost:8080/"
        },
        "id": "YG6oXCZ_7IyM",
        "outputId": "a6911064-d842-49b0-a72a-8f4cc39b3fa6"
      },
      "execution_count": 24,
      "outputs": [
        {
          "output_type": "stream",
          "name": "stdout",
          "text": [
            "        1\n",
            "       1 1\n",
            "      1 2 1\n",
            "     1 3 3 1\n",
            "    1 4 6 4 1\n",
            "   1 6 1 0 5 1\n",
            "  1 7 7 1 5 6 1\n",
            " 1 9 4 8 7 1 7 1\n"
          ]
        }
      ]
    }
  ]
}